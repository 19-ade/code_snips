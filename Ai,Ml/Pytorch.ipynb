{
  "nbformat": 4,
  "nbformat_minor": 0,
  "metadata": {
    "colab": {
      "name": "Pytorch.ipynb",
      "provenance": [],
      "collapsed_sections": []
    },
    "kernelspec": {
      "name": "python3",
      "display_name": "Python 3"
    },
    "language_info": {
      "name": "python"
    },
    "accelerator": "GPU"
  },
  "cells": [
    {
      "cell_type": "markdown",
      "metadata": {
        "id": "9JeADhkJoP9s"
      },
      "source": [
        "Obtaining models as well as getting loss and optimiser functions\n"
      ]
    },
    {
      "cell_type": "code",
      "metadata": {
        "id": "YY_FuMJukZ8e"
      },
      "source": [
        "import torch\n",
        "import numpy as np\n",
        "import matplotlib.pyplot as plt"
      ],
      "execution_count": null,
      "outputs": []
    },
    {
      "cell_type": "code",
      "metadata": {
        "id": "X2ggoyEEwKyj"
      },
      "source": [
        "N=20\n",
        "X=np.random.random(N)*10 -2 #generate numbers\n",
        "\n",
        "Y=0.6*X+2+np.random.randn(N)"
      ],
      "execution_count": null,
      "outputs": []
    },
    {
      "cell_type": "code",
      "metadata": {
        "id": "655o_2TXwiNR",
        "colab": {
          "base_uri": "https://localhost:8080/",
          "height": 282
        },
        "outputId": "4dd13582-c3b5-485e-f300-eb95e29fc6dd"
      },
      "source": [
        "plt.scatter(X,Y)"
      ],
      "execution_count": null,
      "outputs": [
        {
          "output_type": "execute_result",
          "data": {
            "text/plain": [
              "<matplotlib.collections.PathCollection at 0x7f89e901b2d0>"
            ]
          },
          "metadata": {
            "tags": []
          },
          "execution_count": 3
        },
        {
          "output_type": "display_data",
          "data": {
            "image/png": "[encoded data removed]",
            "text/plain": [
              "<Figure size 432x288 with 1 Axes>"
            ]
          },
          "metadata": {
            "tags": [],
            "needs_background": "light"
          }
        }
      ]
    },
    {
      "cell_type": "code",
      "metadata": {
        "id": "CbqaGasKxGX8"
      },
      "source": [
        "#y=x*w+b , linear regression\n",
        "model=torch.nn.Linear(1,1)"
      ],
      "execution_count": null,
      "outputs": []
    },
    {
      "cell_type": "code",
      "metadata": {
        "id": "ahI785QdxolI"
      },
      "source": [
        "#Loss function\n",
        "\n",
        "loss_fn=torch.nn.MSELoss()\n",
        "optimiser=torch.optim.SGD(model.parameters(),lr=0.05)\n",
        "\n",
        "#Data is organised by [num_featues,num_dimension]\n",
        "\n",
        "X=X.reshape(N,1)\n",
        "Y=Y.reshape(N,1)\n",
        "\n"
      ],
      "execution_count": null,
      "outputs": []
    },
    {
      "cell_type": "code",
      "metadata": {
        "id": "7tQ2-Y6fyU3_"
      },
      "source": [
        "inp=torch.from_numpy(X.astype(np.float32))\n",
        "ex_out=torch.from_numpy(Y.astype(np.float32))"
      ],
      "execution_count": null,
      "outputs": []
    },
    {
      "cell_type": "code",
      "metadata": {
        "id": "ZUJzO-TlzS00",
        "colab": {
          "base_uri": "https://localhost:8080/"
        },
        "outputId": "0c14cc5b-1830-42d5-c202-0e55a5b03d88"
      },
      "source": [
        "#Training model\n",
        "\n",
        "ep=20\n",
        "losses=[]\n",
        "for i in range(ep):\n",
        "  optimiser.zero_grad()\n",
        "\n",
        "  out=model(inp) #Forward pass\n",
        "\n",
        "  loss=loss_fn(out,ex_out)#Finding loss\n",
        "  print('loss : ',loss)\n",
        "  losses.append(loss.item())\n",
        "\n",
        "  loss.backward()#Finding gradients\n",
        "  \n",
        "  optimiser.step()\n",
        "\n",
        "  print(i)"
      ],
      "execution_count": null,
      "outputs": [
        {
          "output_type": "stream",
          "text": [
            "loss :  tensor(24.3044, grad_fn=<MseLossBackward>)\n",
            "0\n",
            "loss :  tensor(10.7439, grad_fn=<MseLossBackward>)\n",
            "1\n",
            "loss :  tensor(5.3140, grad_fn=<MseLossBackward>)\n",
            "2\n",
            "loss :  tensor(3.1092, grad_fn=<MseLossBackward>)\n",
            "3\n",
            "loss :  tensor(2.1865, grad_fn=<MseLossBackward>)\n",
            "4\n",
            "loss :  tensor(1.7759, grad_fn=<MseLossBackward>)\n",
            "5\n",
            "loss :  tensor(1.5722, grad_fn=<MseLossBackward>)\n",
            "6\n",
            "loss :  tensor(1.4542, grad_fn=<MseLossBackward>)\n",
            "7\n",
            "loss :  tensor(1.3735, grad_fn=<MseLossBackward>)\n",
            "8\n",
            "loss :  tensor(1.3107, grad_fn=<MseLossBackward>)\n",
            "9\n",
            "loss :  tensor(1.2577, grad_fn=<MseLossBackward>)\n",
            "10\n",
            "loss :  tensor(1.2112, grad_fn=<MseLossBackward>)\n",
            "11\n",
            "loss :  tensor(1.1696, grad_fn=<MseLossBackward>)\n",
            "12\n",
            "loss :  tensor(1.1320, grad_fn=<MseLossBackward>)\n",
            "13\n",
            "loss :  tensor(1.0979, grad_fn=<MseLossBackward>)\n",
            "14\n",
            "loss :  tensor(1.0669, grad_fn=<MseLossBackward>)\n",
            "15\n",
            "loss :  tensor(1.0388, grad_fn=<MseLossBackward>)\n",
            "16\n",
            "loss :  tensor(1.0132, grad_fn=<MseLossBackward>)\n",
            "17\n",
            "loss :  tensor(0.9899, grad_fn=<MseLossBackward>)\n",
            "18\n",
            "loss :  tensor(0.9687, grad_fn=<MseLossBackward>)\n",
            "19\n"
          ],
          "name": "stdout"
        }
      ]
    },
    {
      "cell_type": "code",
      "metadata": {
        "id": "XG44le5F17ZJ",
        "colab": {
          "base_uri": "https://localhost:8080/",
          "height": 282
        },
        "outputId": "753909e0-4b37-468a-f2e6-06c199378d2d"
      },
      "source": [
        "plt.plot(losses)"
      ],
      "execution_count": null,
      "outputs": [
        {
          "output_type": "execute_result",
          "data": {
            "text/plain": [
              "[<matplotlib.lines.Line2D at 0x7f89e8b1a7d0>]"
            ]
          },
          "metadata": {
            "tags": []
          },
          "execution_count": 8
        },
        {
          "output_type": "display_data",
          "data": {
            "image/png": "[encoded data removed]",
            "text/plain": [
              "<Figure size 432x288 with 1 Axes>"
            ]
          },
          "metadata": {
            "tags": [],
            "needs_background": "light"
          }
        }
      ]
    },
    {
      "cell_type": "markdown",
      "metadata": {
        "id": "iLFAuYz_n7ZW"
      },
      "source": [
        "NEURAL NETWORK FORMATION"
      ]
    },
    {
      "cell_type": "code",
      "metadata": {
        "id": "5Q4iYXemcf8G"
      },
      "source": [
        "import torch\n",
        "import torchvision #Computer-vision and image databases\n",
        "import numpy as np\n",
        "import matplotlib.pyplot as plt\n"
      ],
      "execution_count": 4,
      "outputs": []
    },
    {
      "cell_type": "code",
      "metadata": {
        "id": "qp2Lvnv6c6BV"
      },
      "source": [
        "train_d=torchvision.datasets.MNIST(\n",
        "    root='-',\n",
        "    train=True,\n",
        "    transform=torchvision.transforms.ToTensor(),\n",
        "    download=True\n",
        ") #Get MNSIT dataset that comprises of handwritten numbers\n",
        "\n",
        "test_d=torchvision.datasets.MNIST(\n",
        "    root='-',\n",
        "    train=False,\n",
        "    transform=torchvision.transforms.ToTensor(),\n",
        "    download=True\n",
        ")\n",
        "train_d.data.shape\n",
        "test_d.data.shape"
      ],
      "execution_count": 5,
      "outputs": []
    },
    {
      "cell_type": "code",
      "metadata": {
        "id": "OptfnMddeazu"
      },
      "source": [
        "class NN(torch.nn.Module): #Define a neural network by making a class\n",
        "  def __init__(self):\n",
        "    super(NN,self).__init__()\n",
        "    self.flatten=torch.nn.Flatten()#Flatten data\n",
        "    self.hidden_layers=torch.nn.Sequential(\n",
        "        torch.nn.Linear(28*28,512),    #Creates a layer of loads as 728 inputs and takes out 512 outputs\n",
        "        torch.nn.ReLU(),               #After every iteration,make activation function\n",
        "        torch.nn.Linear(512,512),\n",
        "        torch.nn.ReLU(), \n",
        "        torch.nn.Linear(512,10),       #Creates a layer of loads as 512 inputs and 10 outputs\n",
        "        torch.nn.ReLU()\n",
        "    )\n",
        "\n",
        "  def forward(self,x):\n",
        "    x=self.flatten(x) #Flattening the dataset \n",
        "    out=self.hidden_layers(x)\n",
        "    return out\n",
        "model=NN() #Assigning the class to an object\n"
      ],
      "execution_count": 9,
      "outputs": []
    },
    {
      "cell_type": "code",
      "metadata": {
        "id": "jMypgG89eZe9"
      },
      "source": [
        "torch.cuda.is_available() #Code to check if you have an optimal GPU\n",
        "device=torch.device('cuda')"
      ],
      "execution_count": 10,
      "outputs": []
    },
    {
      "cell_type": "code",
      "metadata": {
        "id": "lAXCaqv8hdTN"
      },
      "source": [
        "model.to(device) #Sending model to device\n",
        "loss_fn=torch.nn.CrossEntropyLoss() #Loss function\n",
        "optimiser=torch.optim.SGD(model.parameters(),lr=0.1) #Optimiser function"
      ],
      "execution_count": 11,
      "outputs": []
    },
    {
      "cell_type": "code",
      "metadata": {
        "id": "6uD3m3Uvh6Cd"
      },
      "source": [
        "batch_s=16\n",
        "train_loader=torch.utils.data.DataLoader(dataset=train_d,batch_size=batch_s,shuffle=True) #Make a loader based on the train dataset\n",
        "\n",
        "test_loader=torch.utils.data.DataLoader(dataset=test_d,batch_size=batch_s,shuffle=True)   #Make a loader based on the test dataset\n",
        "\n",
        "tmp_d=torch.utils.data.DataLoader(dataset=test_d,batch_size=1,shuffle=True)               #Make a loader based on the test dataset which has only one batch size"
      ],
      "execution_count": 12,
      "outputs": []
    },
    {
      "cell_type": "code",
      "metadata": {
        "colab": {
          "base_uri": "https://localhost:8080/"
        },
        "id": "TsVGnv9nihDJ",
        "outputId": "0a4b658d-338d-4054-d456-4f8f7ab02835"
      },
      "source": [
        "#Optimsing by printing out the losses\n",
        "ep=10\n",
        "for epoch in range(ep):\n",
        "  for inp,out in train_loader:\n",
        "    inputs,targets=inp.to(device),out.to(device)\n",
        "\n",
        "  \n",
        "    inputs=inputs.view(-1,784) #Reshape\n",
        "\n",
        "    optimiser.zero_grad() #Zero grad\n",
        "\n",
        "    outputs=model.forward(inputs) #Forward\n",
        "    loss=loss_fn(outputs,targets )\n",
        "\n",
        "    loss.backward() #Gradients\n",
        "    optimiser.step()  #Update parameters\n",
        "  print(epoch,loss.item()/16) #Print out the loss values of the neural networks"
      ],
      "execution_count": 18,
      "outputs": [
        {
          "output_type": "stream",
          "text": [
            "0 6.686443521175534e-05\n",
            "1 7.421944246743806e-06\n",
            "2 6.429547738662222e-06\n",
            "3 8.458399861410726e-06\n",
            "4 3.46443775924854e-05\n",
            "5 9.332485205959529e-06\n",
            "6 2.1144840047782054e-06\n",
            "7 2.3748693678271593e-08\n",
            "8 5.918006718275137e-05\n",
            "9 4.6566015043936204e-08\n"
          ],
          "name": "stdout"
        }
      ]
    }
  ]
}